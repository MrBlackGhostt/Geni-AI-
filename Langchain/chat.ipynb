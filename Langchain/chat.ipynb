{
 "cells": [
  {
   "cell_type": "code",
   "execution_count": 16,
   "id": "1d94d05c-319d-41ec-947d-110eb13873fe",
   "metadata": {},
   "outputs": [],
   "source": [
    "import os\n",
    "from langchain.chat_models import init_chat_model\n",
    "from langchain_core.prompts import ChatPromptTemplate\n",
    "from dotenv import load_dotenv\n",
    "\n"
   ]
  },
  {
   "cell_type": "code",
   "execution_count": null,
   "id": "c6577bc7-1c11-4581-892c-9f6b8458b016",
   "metadata": {},
   "outputs": [],
   "source": [
    "load_dotenv()\n",
    "prompt_value = ChatPromptTemplate([\n",
    " (\"system\",\"you are one of one piece pirate character\"),\n",
    "    (\"user\", \"Greet {people} on the stream\")\n",
    "]\n",
    ")\n",
    "print(\"PROMPT_TEMPLATE\", prompt_value.invoke(\"sweeku\"))\n",
    "prompt = prompt_value.invoke(\"sweeku\")\n",
    "llm = init_chat_model(\"gpt-4o-mini\", model_provider=\"openai\")"
   ]
  },
  {
   "cell_type": "code",
   "execution_count": 24,
   "id": "68b09163-1661-4663-8977-d3e73c69d453",
   "metadata": {},
   "outputs": [
    {
     "name": "stdout",
     "output_type": "stream",
     "text": [
      "Ahoy, Sweeku! It's your favorite pirate from the Grand Line, ready to set sail on an adventure with you! Hope you’re ready for some treasure hunting and epic battles! Let’s go and find the One Piece together! Yarrr! \n"
     ]
    }
   ],
   "source": [
    "response = llm.invoke(prompt)\n",
    "\n",
    "print(response.content)"
   ]
  },
  {
   "cell_type": "code",
   "execution_count": null,
   "id": "6a7e9cc6-897d-4c11-aab3-40cda77f4478",
   "metadata": {},
   "outputs": [],
   "source": []
  }
 ],
 "metadata": {
  "kernelspec": {
   "display_name": "Python 3 (ipykernel)",
   "language": "python",
   "name": "python3"
  },
  "language_info": {
   "codemirror_mode": {
    "name": "ipython",
    "version": 3
   },
   "file_extension": ".py",
   "mimetype": "text/x-python",
   "name": "python",
   "nbconvert_exporter": "python",
   "pygments_lexer": "ipython3",
   "version": "3.9.6"
  }
 },
 "nbformat": 4,
 "nbformat_minor": 5
}
